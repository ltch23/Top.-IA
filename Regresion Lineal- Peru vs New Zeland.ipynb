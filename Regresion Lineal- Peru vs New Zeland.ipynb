{
 "cells": [
  {
   "cell_type": "markdown",
   "metadata": {},
   "source": [
    "# Regresion Lineal- Peru vs New Zeland"
   ]
  },
  {
   "cell_type": "code",
   "execution_count": 1,
   "metadata": {},
   "outputs": [],
   "source": [
    "#importando las libreias de numy y matplot\n",
    "import numpy as np\n",
    "import matplotlib.pyplot as mpl"
   ]
  },
  {
   "cell_type": "code",
   "execution_count": 20,
   "metadata": {},
   "outputs": [],
   "source": [
    "#fechas Peru\n",
    "x= np.arange(1,18,1)\n",
    "# resulados\n",
    "y=[0,0,3,3,4,4,7,10,11,11,14,15,18,21,24,25,26]"
   ]
  },
  {
   "cell_type": "code",
   "execution_count": 21,
   "metadata": {},
   "outputs": [
    {
     "data": {
      "text/plain": [
       "Text(0.5,1,'titulo')"
      ]
     },
     "execution_count": 21,
     "metadata": {},
     "output_type": "execute_result"
    },
    {
     "data": {
      "image/png": "[encoded data removed]",
      "text/plain": [
       "<matplotlib.figure.Figure at 0x7f7357661240>"
      ]
     },
     "metadata": {},
     "output_type": "display_data"
    }
   ],
   "source": [
    "mpl.plot(x,y,\"o\")\n",
    "mpl.xlabel(\"eje x\")\n",
    "mpl.ylabel(\"eje y\")\n",
    "mpl.title(\"titulo\")\n"
   ]
  },
  {
   "cell_type": "code",
   "execution_count": 32,
   "metadata": {},
   "outputs": [
    {
     "name": "stdout",
     "output_type": "stream",
     "text": [
      "[-2.25490196 -0.53186275  1.19117647  2.91421569  4.6372549   6.36029412\n",
      "  8.08333333  9.80637255 11.52941176 13.25245098 14.9754902  16.69852941\n",
      " 18.42156863 20.14460784 21.86764706 23.59068627 25.31372549 27.03676471\n",
      " 28.75980392]\n"
     ]
    }
   ],
   "source": [
    "m=(np.average(x)*np.average(y)-np.average(x*y))/((np.average(x))**2 -np.average(x**2))\n",
    "b= np.average(y)- m *np.average(x)\n",
    "x1= np.arange(1,20,1)\n",
    "\n",
    "yprima=m*x1+b\n",
    "\n",
    "print(yprima)"
   ]
  },
  {
   "cell_type": "code",
   "execution_count": 37,
   "metadata": {},
   "outputs": [
    {
     "data": {
      "text/plain": [
       "Text(0.5,1,'titulo')"
      ]
     },
     "execution_count": 37,
     "metadata": {},
     "output_type": "execute_result"
    },
    {
     "data": {
      "image/png": "[encoded data removed]",
      "text/plain": [
       "<matplotlib.figure.Figure at 0x7f73573aa550>"
      ]
     },
     "metadata": {},
     "output_type": "display_data"
    }
   ],
   "source": [
    "\n",
    "mpl.plot(x1,yprima,\"o\")\n",
    "mpl.xlabel(\"eje x\")\n",
    "mpl.ylabel(\"eje y prima\")\n",
    "mpl.title(\"titulo\")\n",
    "\n",
    "\n"
   ]
  }
 ],
 "metadata": {
  "kernelspec": {
   "display_name": "Python 3",
   "language": "python",
   "name": "python3"
  },
  "language_info": {
   "codemirror_mode": {
    "name": "ipython",
    "version": 3
   },
   "file_extension": ".py",
   "mimetype": "text/x-python",
   "name": "python",
   "nbconvert_exporter": "python",
   "pygments_lexer": "ipython3",
   "version": "3.6.4"
  }
 },
 "nbformat": 4,
 "nbformat_minor": 2
}
