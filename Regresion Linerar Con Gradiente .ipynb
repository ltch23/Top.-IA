{
 "cells": [
  {
   "cell_type": "markdown",
   "metadata": {},
   "source": [
    "# Regresion Linerar Con Gradiente "
   ]
  },
  {
   "cell_type": "code",
   "execution_count": 147,
   "metadata": {},
   "outputs": [],
   "source": [
    "import numpy as np\n",
    "import matplotlib.pyplot as mpl\n"
   ]
  },
  {
   "cell_type": "code",
   "execution_count": 180,
   "metadata": {},
   "outputs": [],
   "source": [
    "#creando una matrix plantilla(1)\n",
    "x= np.ones((18,2))\n",
    "x[:,1]=np.arange(18)\n",
    "y=[0,0,3,3,4,4,7,10,11,11,14,14,15,18,21,24,25,26]\n",
    "\n",
    "\n"
   ]
  },
  {
   "cell_type": "code",
   "execution_count": null,
   "metadata": {},
   "outputs": [],
   "source": []
  },
  {
   "cell_type": "code",
   "execution_count": 114,
   "metadata": {},
   "outputs": [],
   "source": [
    "#funcion de costo\n",
    "def costo(X,y,theta):\n",
    "    m=X.shape[0]\n",
    "\n",
    "    theta0= theta[0,0]\n",
    "    theta1= theta[1,0]\n",
    "    \n",
    "    tmp=( (theta0*X[:,0] + theta1*X[:,1] -y)).sum()\n",
    "    \n",
    "    return tmp/2*m\n"
   ]
  },
  {
   "cell_type": "code",
   "execution_count": 125,
   "metadata": {},
   "outputs": [],
   "source": [
    "#Gradiente lineal (retorna el mejor theta)\n",
    "\n",
    "def gradiente(X,y,theta,aplha,num_iter):\n",
    "    \n",
    "    m=X.shape[0]\n",
    "    theta0= theta[0,0]\n",
    "    theta1= theta[1,0]\n",
    "    \n",
    "    \n",
    "    for i in range (num_iter):\n",
    "        #print(\"theta0 \",i,theta0,\"theta1 \",i,theta1)\n",
    "        \n",
    "        tmp1=(theta0*X[:,0] + theta1*X[:,1] -y).sum()\n",
    "        tmp2=((theta0*X[:,0] + theta1*X[:,1] -y)*X[:,1]).sum()\n",
    "                \n",
    "        theta0=theta0-aplha*((1/m)*tmp1)\n",
    "        theta1=theta1-aplha*((1/m)*tmp2)\n",
    "\n",
    "                                \n",
    "    theta = np.array([theta0, theta1])\n",
    "        \n",
    "    return theta  \n",
    "    "
   ]
  },
  {
   "cell_type": "code",
   "execution_count": 179,
   "metadata": {},
   "outputs": [
    {
     "name": "stdout",
     "output_type": "stream",
     "text": [
      "theta:  [-1.8245614  1.5872033]\n",
      "fecha 18:  26.74509803921365\n"
     ]
    },
    {
     "data": {
      "text/plain": [
       "[<matplotlib.lines.Line2D at 0x7f357d0252b0>]"
      ]
     },
     "execution_count": 179,
     "metadata": {},
     "output_type": "execute_result"
    },
    {
     "data": {
      "image/png": "[encoded data removed]",
      "text/plain": [
       "<matplotlib.figure.Figure at 0x7f35860c2fd0>"
      ]
     },
     "metadata": {},
     "output_type": "display_data"
    }
   ],
   "source": [
    "\n",
    "theta_ = np.zeros((2,1))\n",
    "theta = gradiente(x,y,theta_,0.01,10000)\n",
    "print (\"theta: \",theta)\n",
    "yprima=[]\n",
    "\n",
    "mpl.plot(y,\"o\")\n",
    "mpl.xlabel(\"eje x\")\n",
    "mpl.ylabel(\"eje y\")\n",
    "mpl.title(\"titulo\")\n",
    "for i in range(18):\n",
    "    yprima.append(theta[0]+theta[1]*i)\n",
    "\n",
    "print(\"fecha 18: \",theta[0]+theta[1]*18)\n",
    "\n",
    "mpl.plot(yprima,\"-\")\n",
    "\n"
   ]
  },
  {
   "cell_type": "code",
   "execution_count": null,
   "metadata": {},
   "outputs": [],
   "source": []
  }
 ],
 "metadata": {
  "kernelspec": {
   "display_name": "Python 3",
   "language": "python",
   "name": "python3"
  },
  "language_info": {
   "codemirror_mode": {
    "name": "ipython",
    "version": 3
   },
   "file_extension": ".py",
   "mimetype": "text/x-python",
   "name": "python",
   "nbconvert_exporter": "python",
   "pygments_lexer": "ipython3",
   "version": "3.6.4"
  }
 },
 "nbformat": 4,
 "nbformat_minor": 2
}
